{
  "nbformat": 4,
  "nbformat_minor": 0,
  "metadata": {
    "colab": {
      "provenance": [],
      "gpuType": "T4"
    },
    "kernelspec": {
      "name": "python3",
      "display_name": "Python 3"
    },
    "language_info": {
      "name": "python"
    },
    "accelerator": "GPU"
  },
  "cells": [
    {
      "cell_type": "code",
      "source": [
        "from google.colab import drive\n",
        "drive.mount('/content/drive')"
      ],
      "metadata": {
        "id": "cAofxAiZt_gG",
        "colab": {
          "base_uri": "https://localhost:8080/"
        },
        "outputId": "47f1833a-4d04-4a44-c0a9-07feddb8f95d"
      },
      "execution_count": 1,
      "outputs": [
        {
          "output_type": "stream",
          "name": "stdout",
          "text": [
            "Mounted at /content/drive\n"
          ]
        }
      ]
    },
    {
      "cell_type": "code",
      "source": [
        "import os\n",
        "import cv2\n",
        "import numpy as np\n",
        "from tqdm import tqdm\n",
        "\n",
        "def create_scan_mask(image, area_threshold=10000):\n",
        "    gray = cv2.cvtColor(image, cv2.COLOR_RGB2GRAY)\n",
        "    _, binary = cv2.threshold(gray, 0, 255, cv2.THRESH_BINARY)\n",
        "    kernel = cv2.getStructuringElement(cv2.MORPH_ELLIPSE, (3, 3))\n",
        "    cleaned = cv2.morphologyEx(binary, cv2.MORPH_CLOSE, kernel, iterations=1)\n",
        "    contours, _ = cv2.findContours(cleaned, cv2.RETR_EXTERNAL, cv2.CHAIN_APPROX_SIMPLE)\n",
        "    mask_clean = np.zeros_like(gray)\n",
        "    for contour in contours:\n",
        "        if cv2.contourArea(contour) > area_threshold:\n",
        "            cv2.drawContours(mask_clean, [contour], -1, 255, thickness=cv2.FILLED)\n",
        "    return mask_clean\n",
        "\n"
      ],
      "metadata": {
        "id": "aqZCIQ8q18IK"
      },
      "execution_count": 6,
      "outputs": []
    },
    {
      "cell_type": "code",
      "source": [
        "\n",
        "dataset_path = \"/content/drive/MyDrive/OTU-2D-Dataset-main/OTU-2D-Dataset-main/dataset_split/train/images\"\n",
        "output_path = \"/content/drive/MyDrive/OTU-2D-Dataset-main/OTU-2D-Dataset-main/dataset_split/train/scan_mask\"\n",
        "os.makedirs(output_path, exist_ok=True)\n",
        "\n",
        "valid_image_files = []\n",
        "for f in os.listdir(dataset_path):\n",
        "    if f.lower().endswith(('.jpg', '.jpeg', '.png')):\n",
        "        path = os.path.join(dataset_path, f)\n",
        "        img = cv2.imread(path)\n",
        "        if img is not None:\n",
        "            valid_image_files.append(f)\n",
        "\n",
        "valid_image_files = sorted(valid_image_files)\n",
        "\n",
        "for image_name in tqdm(valid_image_files, desc=\"Tạo scan mask\"):\n",
        "    image_path = os.path.join(dataset_path, image_name)\n",
        "    image = cv2.imread(image_path, cv2.IMREAD_COLOR)\n",
        "    image_rgb = cv2.cvtColor(image, cv2.COLOR_BGR2RGB)\n",
        "    h, w = image_rgb.shape[:2]\n",
        "    scan_mask = create_scan_mask(image_rgb)\n",
        "    if scan_mask.shape != (h, w):\n",
        "        scan_mask = cv2.resize(scan_mask, (w, h), interpolation=cv2.INTER_NEAREST)\n",
        "    base_name = os.path.splitext(image_name)[0]\n",
        "    scan_mask_name = f\"{base_name}_scan_mask.png\"\n",
        "    scan_mask_path = os.path.join(output_path, scan_mask_name)\n",
        "    cv2.imwrite(scan_mask_path, scan_mask)"
      ],
      "metadata": {
        "colab": {
          "base_uri": "https://localhost:8080/"
        },
        "id": "rt-q5a8dBCUW",
        "outputId": "a3b1e1c4-31a1-4f94-f245-b6a8cdf72219"
      },
      "execution_count": 7,
      "outputs": [
        {
          "output_type": "stream",
          "name": "stderr",
          "text": [
            "Tạo scan mask: 100%|██████████| 1177/1177 [00:20<00:00, 56.12it/s]\n"
          ]
        }
      ]
    }
  ]
}